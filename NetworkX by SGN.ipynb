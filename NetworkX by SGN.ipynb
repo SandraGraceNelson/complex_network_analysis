{
 "cells": [
  {
   "cell_type": "code",
   "execution_count": 1,
   "id": "d9d30152",
   "metadata": {},
   "outputs": [],
   "source": [
    "import networkx as nx\n",
    "import matplotlib.pyplot as plt"
   ]
  },
  {
   "cell_type": "code",
   "execution_count": 2,
   "id": "0b024d5d",
   "metadata": {},
   "outputs": [],
   "source": [
    "G = nx.Graph()  # create a graph from an edge list\n",
    "G.add_weighted_edges_from([(0, 1,  0.9), (1, 2, 0.2), (2, 3, 0.5)])"
   ]
  },
  {
   "cell_type": "code",
   "execution_count": 3,
   "id": "1736d03b",
   "metadata": {},
   "outputs": [
    {
     "data": {
      "image/png": "[encoded data removed]",
      "text/plain": [
       "<Figure size 432x288 with 1 Axes>"
      ]
     },
     "metadata": {},
     "output_type": "display_data"
    }
   ],
   "source": [
    "nx.draw(G, with_labels=True, font_weight='bold')\n",
    "plt.show(G)"
   ]
  },
  {
   "cell_type": "code",
   "execution_count": 4,
   "id": "9006346f",
   "metadata": {
    "scrolled": true
   },
   "outputs": [
    {
     "name": "stdout",
     "output_type": "stream",
     "text": [
      "Eccentricity:  {0: 3, 1: 2, 2: 2, 3: 3}\n",
      "Diameter:  3\n",
      "Radius:  2\n",
      "Betweenness Centrality:  {0: 0.0, 1: 0.6666666666666666, 2: 0.6666666666666666, 3: 0.0}\n",
      "Eigenvector Centrality:  {0: 0.3717482342712009, 1: 0.6015008315175004, 2: 0.6015008315175003, 3: 0.3717482342712008}\n",
      "Degree Centrality:  {0: 0.3333333333333333, 1: 0.6666666666666666, 2: 0.6666666666666666, 3: 0.3333333333333333}\n",
      "Closeness Centrality:  {0: 0.5, 1: 0.75, 2: 0.75, 3: 0.5}\n",
      "Average Degree:  1.5\n",
      "Graph Density:  0.5\n",
      "Average Path Length:  1.6666666666666667\n",
      "Local Clustering Coefficient:  {0: 0, 1: 0, 2: 0, 3: 0}\n",
      "Average Local Clustering Coefficient:  0.0\n"
     ]
    }
   ],
   "source": [
    "# Eccentricity\n",
    "eccentricity = nx.eccentricity(G)\n",
    "print(\"Eccentricity: \", eccentricity)\n",
    "\n",
    "# Diameter\n",
    "diameter = nx.diameter(G)\n",
    "print(\"Diameter: \", diameter)\n",
    "\n",
    "# Radius\n",
    "radius = nx.radius(G)\n",
    "print(\"Radius: \", radius)\n",
    "\n",
    "# Centralities\n",
    "betweenness_centrality = nx.betweenness_centrality(G)\n",
    "eigenvector_centrality = nx.eigenvector_centrality(G)\n",
    "degree_centrality = nx.degree_centrality(G)\n",
    "closeness_centrality = nx.closeness_centrality(G)\n",
    "print(\"Betweenness Centrality: \", betweenness_centrality)\n",
    "print(\"Eigenvector Centrality: \", eigenvector_centrality)\n",
    "print(\"Degree Centrality: \", degree_centrality)\n",
    "print(\"Closeness Centrality: \", closeness_centrality)\n",
    "\n",
    "# Average Degree\n",
    "average_degree = sum(dict(G.degree()).values()) / len(G)\n",
    "print(\"Average Degree: \", average_degree)\n",
    "\n",
    "# Graph Density\n",
    "graph_density = nx.density(G)\n",
    "print(\"Graph Density: \", graph_density)\n",
    "\n",
    "# Average Path Length\n",
    "average_path_length = nx.average_shortest_path_length(G)\n",
    "print(\"Average Path Length: \", average_path_length)\n",
    "\n",
    "# Local Clustering Coefficient\n",
    "local_clustering_coefficient = nx.clustering(G)\n",
    "print(\"Local Clustering Coefficient: \", local_clustering_coefficient)\n",
    "\n",
    "# Average Local Clustering Coefficient\n",
    "average_local_clustering_coefficient = nx.average_clustering(G)\n",
    "print(\"Average Local Clustering Coefficient: \", average_local_clustering_coefficient)"
   ]
  },
  {
   "cell_type": "code",
   "execution_count": 5,
   "id": "0bd09775",
   "metadata": {},
   "outputs": [
    {
     "name": "stdout",
     "output_type": "stream",
     "text": [
      "Clustering:  {0: 0, 1: 0, 2: 0, 3: 0}\n"
     ]
    }
   ],
   "source": [
    "clustering = nx.clustering(G)\n",
    "print(\"Clustering: \", clustering)"
   ]
  },
  {
   "cell_type": "code",
   "execution_count": 6,
   "id": "592c5ece",
   "metadata": {},
   "outputs": [
    {
     "name": "stdout",
     "output_type": "stream",
     "text": [
      "<generator object connected_components at 0x000001F374082B30>\n"
     ]
    }
   ],
   "source": [
    "connected_com=nx.connected_components(G)\n",
    "print(connected_com)"
   ]
  },
  {
   "cell_type": "code",
   "execution_count": 7,
   "id": "d20875fe",
   "metadata": {},
   "outputs": [
    {
     "data": {
      "text/plain": [
       "{3: [3], 2: [3, 2], 1: [3, 2, 1], 0: [3, 2, 1, 0]}"
      ]
     },
     "execution_count": 7,
     "metadata": {},
     "output_type": "execute_result"
    }
   ],
   "source": [
    "sp = dict(nx.all_pairs_shortest_path(G))\n",
    "sp[3]"
   ]
  },
  {
   "cell_type": "code",
   "execution_count": 8,
   "id": "9770f1c3",
   "metadata": {},
   "outputs": [
    {
     "name": "stdout",
     "output_type": "stream",
     "text": [
      "Shortest Path Lengths:  {1: 0, 0: 1, 2: 1, 3: 2}\n",
      "Shortest Paths:  {1: [1], 0: [1, 0], 2: [1, 2], 3: [1, 2, 3]}\n"
     ]
    }
   ],
   "source": [
    "# Shortest path lengths\n",
    "shortest_path_lengths = nx.shortest_path_length(G, source=1)\n",
    "print(\"Shortest Path Lengths: \", shortest_path_lengths)\n",
    "\n",
    "# Shortest paths\n",
    "shortest_paths = nx.shortest_path(G, source=1)\n",
    "print(\"Shortest Paths: \", shortest_paths)"
   ]
  },
  {
   "cell_type": "code",
   "execution_count": 10,
   "id": "4f25100d",
   "metadata": {},
   "outputs": [
    {
     "name": "stdout",
     "output_type": "stream",
     "text": [
      "Shortest path: [1, 2, 3]\n",
      "Length of shortest path: 0.7\n"
     ]
    }
   ],
   "source": [
    "path = nx.dijkstra_path(G, 1, 3)\n",
    "length = nx.dijkstra_path_length(G, 1, 3)\n",
    "\n",
    "print(\"Shortest path:\", path)\n",
    "print(\"Length of shortest path:\", length)"
   ]
  },
  {
   "cell_type": "code",
   "execution_count": 11,
   "id": "fbfe653e",
   "metadata": {},
   "outputs": [
    {
     "name": "stdout",
     "output_type": "stream",
     "text": [
      "BFS: [1, 0, 2, 3]\n",
      "DFS: [1, 0, 2, 3]\n"
     ]
    }
   ],
   "source": [
    "# run BFS\n",
    "bfs = list(nx.bfs_tree(G, source=1))\n",
    "\n",
    "# run DFS\n",
    "dfs = list(nx.dfs_tree(G, source=1))\n",
    "\n",
    "print(\"BFS:\", bfs)\n",
    "print(\"DFS:\", dfs)"
   ]
  },
  {
   "cell_type": "code",
   "execution_count": null,
   "id": "1b2517b5",
   "metadata": {},
   "outputs": [],
   "source": []
  }
 ],
 "metadata": {
  "kernelspec": {
   "display_name": "Python 3",
   "language": "python",
   "name": "python3"
  },
  "language_info": {
   "codemirror_mode": {
    "name": "ipython",
    "version": 3
   },
   "file_extension": ".py",
   "mimetype": "text/x-python",
   "name": "python",
   "nbconvert_exporter": "python",
   "pygments_lexer": "ipython3",
   "version": "3.8.8"
  }
 },
 "nbformat": 4,
 "nbformat_minor": 5
}
